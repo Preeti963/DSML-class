{
 "cells": [
  {
   "cell_type": "markdown",
   "id": "4cb77296-9cec-4da7-ae17-c36c6c408d11",
   "metadata": {},
   "source": [
    "Python function\n",
    " A functio is the block of code that performs an specific task"
   ]
  },
  {
   "cell_type": "code",
   "execution_count": 4,
   "id": "3fefd251-9d11-4c82-8ca0-2dbce6a7b2d7",
   "metadata": {},
   "outputs": [],
   "source": [
    "def calclate_sum(num1,num2):\n",
    "    result = num1 + num2\n",
    "    return result"
   ]
  },
  {
   "cell_type": "code",
   "execution_count": 6,
   "id": "14796180-ed5d-460c-9f3d-b576d1f0fc12",
   "metadata": {},
   "outputs": [],
   "source": [
    "value = calclate_sum(4,6)"
   ]
  },
  {
   "cell_type": "code",
   "execution_count": 7,
   "id": "54a51dd6-4421-45f7-bcb2-6eddff8a486b",
   "metadata": {},
   "outputs": [
    {
     "data": {
      "text/plain": [
       "10"
      ]
     },
     "execution_count": 7,
     "metadata": {},
     "output_type": "execute_result"
    }
   ],
   "source": [
    "value"
   ]
  },
  {
   "cell_type": "code",
   "execution_count": null,
   "id": "dfbdf41f-d609-4a38-9d83-d41b1fd11a7c",
   "metadata": {},
   "outputs": [],
   "source": []
  },
  {
   "cell_type": "code",
   "execution_count": null,
   "id": "9436cffe-b229-4990-90ee-f8452a608f19",
   "metadata": {},
   "outputs": [],
   "source": []
  },
  {
   "cell_type": "code",
   "execution_count": null,
   "id": "06e7a45c-6e6d-487a-b3c0-2788a4028a28",
   "metadata": {},
   "outputs": [],
   "source": []
  }
 ],
 "metadata": {
  "kernelspec": {
   "display_name": "Python 3 (ipykernel)",
   "language": "python",
   "name": "python3"
  },
  "language_info": {
   "codemirror_mode": {
    "name": "ipython",
    "version": 3
   },
   "file_extension": ".py",
   "mimetype": "text/x-python",
   "name": "python",
   "nbconvert_exporter": "python",
   "pygments_lexer": "ipython3",
   "version": "3.13.5"
  }
 },
 "nbformat": 4,
 "nbformat_minor": 5
}
