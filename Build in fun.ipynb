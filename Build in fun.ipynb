{
 "cells": [
  {
   "cell_type": "code",
   "execution_count": 4,
   "id": "9d46ed2f-341a-4a9e-b921-d53696b89474",
   "metadata": {},
   "outputs": [
    {
     "name": "stdout",
     "output_type": "stream",
     "text": [
      "4+6="
     ]
    }
   ],
   "source": [
    "print(4,6,sep = \"+\" , end = \"=\")"
   ]
  },
  {
   "cell_type": "code",
   "execution_count": 7,
   "id": "fc890ba4-3a60-4d24-b3be-9a4d8fbf66fe",
   "metadata": {},
   "outputs": [],
   "source": [
    "file = open(\"massage.txt\", mode=\"w\")\n",
    "file.write(\"Wellcome\")\n",
    "file.close()"
   ]
  },
  {
   "cell_type": "code",
   "execution_count": 11,
   "id": "1e6d5194-9070-4d3e-8a23-960ef27bdb9e",
   "metadata": {},
   "outputs": [
    {
     "name": "stdout",
     "output_type": "stream",
     "text": [
      "In the beginning\n",
      "\n"
     ]
    }
   ],
   "source": [
    "# Context Manager\n",
    "with open(\"message.txt\", mode = \"r+\") as file:\n",
    "    print(file.read())\n",
    "    file.write(\"this is the First word \\n\")\n",
    "    "
   ]
  },
  {
   "cell_type": "code",
   "execution_count": 12,
   "id": "53d3f3f5-0ece-485f-9d14-69004d4d1e66",
   "metadata": {},
   "outputs": [
    {
     "name": "stdout",
     "output_type": "stream",
     "text": [
      "\n"
     ]
    }
   ],
   "source": [
    "# Context Manager\n",
    "with open(\"message.txt\", mode = \"w+\") as file:\n",
    "    print(file.read())\n",
    "    file.write(\"In the beginning\\n\")\n"
   ]
  },
  {
   "cell_type": "code",
   "execution_count": 13,
   "id": "da3e27ab-96b8-4f03-98cd-84332978b9ae",
   "metadata": {},
   "outputs": [],
   "source": [
    "#dir ()\n",
    "x = \"Poteta\""
   ]
  },
  {
   "cell_type": "code",
   "execution_count": 15,
   "id": "bca77da9-fd32-4256-8497-92051215003e",
   "metadata": {},
   "outputs": [
    {
     "name": "stdout",
     "output_type": "stream",
     "text": [
      "['__add__', '__class__', '__contains__', '__delattr__', '__dir__', '__doc__', '__eq__', '__format__', '__ge__', '__getattribute__', '__getitem__', '__getnewargs__', '__getstate__', '__gt__', '__hash__', '__init__', '__init_subclass__', '__iter__', '__le__', '__len__', '__lt__', '__mod__', '__mul__', '__ne__', '__new__', '__reduce__', '__reduce_ex__', '__repr__', '__rmod__', '__rmul__', '__setattr__', '__sizeof__', '__str__', '__subclasshook__', 'capitalize', 'casefold', 'center', 'count', 'encode', 'endswith', 'expandtabs', 'find', 'format', 'format_map', 'index', 'isalnum', 'isalpha', 'isascii', 'isdecimal', 'isdigit', 'isidentifier', 'islower', 'isnumeric', 'isprintable', 'isspace', 'istitle', 'isupper', 'join', 'ljust', 'lower', 'lstrip', 'maketrans', 'partition', 'removeprefix', 'removesuffix', 'replace', 'rfind', 'rindex', 'rjust', 'rpartition', 'rsplit', 'rstrip', 'split', 'splitlines', 'startswith', 'strip', 'swapcase', 'title', 'translate', 'upper', 'zfill']\n"
     ]
    }
   ],
   "source": [
    " print(dir(x))"
   ]
  },
  {
   "cell_type": "code",
   "execution_count": 16,
   "id": "89229060-a050-4d4d-ba0f-5b4f5c028765",
   "metadata": {},
   "outputs": [
    {
     "name": "stdout",
     "output_type": "stream",
     "text": [
      "['__abs__', '__add__', '__and__', '__bool__', '__ceil__', '__class__', '__delattr__', '__dir__', '__divmod__', '__doc__', '__eq__', '__float__', '__floor__', '__floordiv__', '__format__', '__ge__', '__getattribute__', '__getnewargs__', '__getstate__', '__gt__', '__hash__', '__index__', '__init__', '__init_subclass__', '__int__', '__invert__', '__le__', '__lshift__', '__lt__', '__mod__', '__mul__', '__ne__', '__neg__', '__new__', '__or__', '__pos__', '__pow__', '__radd__', '__rand__', '__rdivmod__', '__reduce__', '__reduce_ex__', '__repr__', '__rfloordiv__', '__rlshift__', '__rmod__', '__rmul__', '__ror__', '__round__', '__rpow__', '__rrshift__', '__rshift__', '__rsub__', '__rtruediv__', '__rxor__', '__setattr__', '__sizeof__', '__str__', '__sub__', '__subclasshook__', '__truediv__', '__trunc__', '__xor__', 'as_integer_ratio', 'bit_count', 'bit_length', 'conjugate', 'denominator', 'from_bytes', 'imag', 'is_integer', 'numerator', 'real', 'to_bytes']\n"
     ]
    }
   ],
   "source": [
    "i = 1\n",
    "print(dir(1))"
   ]
  },
  {
   "cell_type": "code",
   "execution_count": 17,
   "id": "026219a5-6618-486b-a2d4-1f5163158561",
   "metadata": {},
   "outputs": [
    {
     "data": {
      "text/plain": [
       "'POTETA'"
      ]
     },
     "execution_count": 17,
     "metadata": {},
     "output_type": "execute_result"
    }
   ],
   "source": [
    "x.upper()"
   ]
  },
  {
   "cell_type": "code",
   "execution_count": 19,
   "id": "792d53bb-b838-432d-9065-b97d5b0d02ff",
   "metadata": {},
   "outputs": [
    {
     "data": {
      "text/plain": [
       "'danish'"
      ]
     },
     "execution_count": 19,
     "metadata": {},
     "output_type": "execute_result"
    }
   ],
   "source": [
    "\"#%danish\".lstrip(\"#%\")"
   ]
  },
  {
   "cell_type": "code",
   "execution_count": 20,
   "id": "797679ba-d013-4bbf-b023-93bce644f1c3",
   "metadata": {},
   "outputs": [
    {
     "data": {
      "text/plain": [
       "'#%danish'"
      ]
     },
     "execution_count": 20,
     "metadata": {},
     "output_type": "execute_result"
    }
   ],
   "source": [
    "\"#%danish\".rstrip(\"#%\")"
   ]
  },
  {
   "cell_type": "markdown",
   "id": "631c75f9-60cb-499a-9832-d58f85d6dfdd",
   "metadata": {},
   "source": [
    "enumerate()\n",
    "In oython the enumerate() functio  used too iterate over a sequence( such as tuple or list)"
   ]
  },
  {
   "cell_type": "code",
   "execution_count": 22,
   "id": "ddabfd34-e2d1-48e8-a26d-860c1e16df4e",
   "metadata": {},
   "outputs": [],
   "source": [
    "name = [\"alice\",\"bob\",\"harris\"]"
   ]
  },
  {
   "cell_type": "code",
   "execution_count": 23,
   "id": "2b137929-779e-4dd1-bba2-cd9575407786",
   "metadata": {},
   "outputs": [
    {
     "data": {
      "text/plain": [
       "[(0, 'alice'), (1, 'bob'), (2, 'harris')]"
      ]
     },
     "execution_count": 23,
     "metadata": {},
     "output_type": "execute_result"
    }
   ],
   "source": [
    "list(enumerate(name))"
   ]
  },
  {
   "cell_type": "code",
   "execution_count": 38,
   "id": "9abecbb3-3157-4d3b-a532-bd91fe085901",
   "metadata": {},
   "outputs": [],
   "source": [
    "names = [\"ben\",\"noha\",\"james\"]\n",
    "score = [4,6,3]"
   ]
  },
  {
   "cell_type": "code",
   "execution_count": 35,
   "id": "e8c6787f-0829-4ec8-982c-1cca5ae7dc7c",
   "metadata": {},
   "outputs": [
    {
     "data": {
      "text/plain": [
       "[('ben', 4), ('noha', 6), ('james', 3)]"
      ]
     },
     "execution_count": 35,
     "metadata": {},
     "output_type": "execute_result"
    }
   ],
   "source": [
    "list(zip(names,score))"
   ]
  },
  {
   "cell_type": "code",
   "execution_count": 40,
   "id": "fd6cb29a-4a1e-4370-b137-c3bfbd78f27b",
   "metadata": {},
   "outputs": [
    {
     "name": "stdout",
     "output_type": "stream",
     "text": [
      "ben .>4\n",
      "noha .>6\n",
      "james .>3\n"
     ]
    }
   ],
   "source": [
    "for (player,s) in zip(names,score):\n",
    "    print(player,s , sep=\" .>\")"
   ]
  },
  {
   "cell_type": "code",
   "execution_count": 41,
   "id": "25917a5e-1e47-4b85-9b5c-696b5a911736",
   "metadata": {},
   "outputs": [],
   "source": [
    "name = \"hari\"\n",
    "list1 =[2,5,6]\n",
    "set1 = set('aeiou')"
   ]
  },
  {
   "cell_type": "code",
   "execution_count": 42,
   "id": "4ded06ee-8c9e-4e84-84a4-a0edba02d5ea",
   "metadata": {},
   "outputs": [
    {
     "data": {
      "text/plain": [
       "[('h', 2, 'i'), ('a', 5, 'e'), ('r', 6, 'u')]"
      ]
     },
     "execution_count": 42,
     "metadata": {},
     "output_type": "execute_result"
    }
   ],
   "source": [
    "list(zip(name, list1, set1))"
   ]
  },
  {
   "cell_type": "code",
   "execution_count": 43,
   "id": "f75d878b-96dc-46fb-bfea-505a19dfb34e",
   "metadata": {},
   "outputs": [],
   "source": [
    "def mult(x):\n",
    "    return x *2"
   ]
  },
  {
   "cell_type": "markdown",
   "id": "c88adcc6-ac9e-42fe-9cf2-f9eb924af3bd",
   "metadata": {},
   "source": [
    "Map ()\n",
    " function\n"
   ]
  },
  {
   "cell_type": "code",
   "execution_count": 52,
   "id": "6e991c00-2ea0-4a2f-99e0-42c45fe9d656",
   "metadata": {},
   "outputs": [],
   "source": [
    "numbers = [2,4,6,8,0]\n",
    "map_obj = map(mult, numbers)"
   ]
  },
  {
   "cell_type": "code",
   "execution_count": 46,
   "id": "0adcb647-af4c-4c92-8f34-bbbf6c17be22",
   "metadata": {},
   "outputs": [
    {
     "data": {
      "text/plain": [
       "[4, 8, 12, 16, 0]"
      ]
     },
     "execution_count": 46,
     "metadata": {},
     "output_type": "execute_result"
    }
   ],
   "source": [
    "[a for a in map_obj]"
   ]
  },
  {
   "cell_type": "code",
   "execution_count": 49,
   "id": "edb4938e-c322-4be0-a51d-4041a075f6a0",
   "metadata": {},
   "outputs": [],
   "source": [
    "numbers = list(range(10))\n",
    "map_obj = map(mult, numbers)"
   ]
  },
  {
   "cell_type": "code",
   "execution_count": 51,
   "id": "b2c48b88-6bd3-43bb-9a71-808c53188e53",
   "metadata": {},
   "outputs": [
    {
     "data": {
      "text/plain": [
       "[0, 2, 4, 6, 8, 10, 12, 14, 16, 18]"
      ]
     },
     "execution_count": 51,
     "metadata": {},
     "output_type": "execute_result"
    }
   ],
   "source": [
    "[a for a in map_obj]"
   ]
  },
  {
   "cell_type": "markdown",
   "id": "e84232af-07eb-4480-83b9-c9614f2c1398",
   "metadata": {},
   "source": [
    "Filter() \n",
    "// It is used to filter  an iterable (list & tuple) based on given condition"
   ]
  },
  {
   "cell_type": "code",
   "execution_count": 53,
   "id": "1f2b16fb-82e7-48ad-8b6e-5ca7744c97d6",
   "metadata": {},
   "outputs": [],
   "source": [
    "def even(num):\n",
    "    return num % 2 ==0"
   ]
  },
  {
   "cell_type": "code",
   "execution_count": 55,
   "id": "f93e060e-758a-4d31-a123-0b6f1a66d5e7",
   "metadata": {},
   "outputs": [],
   "source": [
    "f_obj = filter(even,[1,3,4,6,8,9])"
   ]
  },
  {
   "cell_type": "code",
   "execution_count": 56,
   "id": "d7d7509c-e556-4828-81d3-69d3ad22b5d7",
   "metadata": {},
   "outputs": [
    {
     "data": {
      "text/plain": [
       "[4, 6, 8]"
      ]
     },
     "execution_count": 56,
     "metadata": {},
     "output_type": "execute_result"
    }
   ],
   "source": [
    "list(f_obj)"
   ]
  },
  {
   "cell_type": "code",
   "execution_count": 66,
   "id": "246d7fe8-cfe1-4464-be32-8926e6ddbbaf",
   "metadata": {},
   "outputs": [],
   "source": [
    "def odd(num):\n",
    "    return num * 2!=0"
   ]
  },
  {
   "cell_type": "code",
   "execution_count": 67,
   "id": "b71bcb39-2b59-4a18-96c1-26913e73df56",
   "metadata": {},
   "outputs": [],
   "source": [
    "f_obj = filter(odd,[1,3,4,6,8,9])"
   ]
  },
  {
   "cell_type": "code",
   "execution_count": 68,
   "id": "9abfd508-5982-4e28-b6f9-aa1eb1a43d04",
   "metadata": {},
   "outputs": [
    {
     "data": {
      "text/plain": [
       "[1, 3, 4, 6, 8, 9]"
      ]
     },
     "execution_count": 68,
     "metadata": {},
     "output_type": "execute_result"
    }
   ],
   "source": [
    "list(f_obj)"
   ]
  },
  {
   "cell_type": "markdown",
   "id": "b12dabd1-ad51-4fff-bc13-868d5cda75df",
   "metadata": {},
   "source": [
    "reduce()// it is used to apply a given function to the item of an iterablw in cumlative way"
   ]
  },
  {
   "cell_type": "code",
   "execution_count": 69,
   "id": "bc456220-839e-4d0a-89d0-02fa8d71af53",
   "metadata": {},
   "outputs": [],
   "source": [
    "from functools import reduce"
   ]
  },
  {
   "cell_type": "code",
   "execution_count": 70,
   "id": "e0143da5-5c04-41b2-9ae1-3ec9412c94d7",
   "metadata": {},
   "outputs": [],
   "source": [
    "mylist = [1,2,3,4,5]"
   ]
  },
  {
   "cell_type": "code",
   "execution_count": 77,
   "id": "591371d0-14d0-4b73-acc1-169980e10309",
   "metadata": {},
   "outputs": [],
   "source": [
    "def add(x,y):\n",
    " return x * y"
   ]
  },
  {
   "cell_type": "code",
   "execution_count": 78,
   "id": "9aa6f93c-a0c9-4e40-bd40-843e6a3b7036",
   "metadata": {},
   "outputs": [],
   "source": [
    "red_obj =reduce(add, mylist)"
   ]
  },
  {
   "cell_type": "code",
   "execution_count": 79,
   "id": "5bc13cf5-488f-409d-9b5a-5bb0975259f4",
   "metadata": {},
   "outputs": [
    {
     "data": {
      "text/plain": [
       "120"
      ]
     },
     "execution_count": 79,
     "metadata": {},
     "output_type": "execute_result"
    }
   ],
   "source": [
    "red_obj"
   ]
  },
  {
   "cell_type": "markdown",
   "id": "ab34d719-4550-419f-b481-68421c516df7",
   "metadata": {},
   "source": [
    "for example: reduce(add,[ ]\n",
    "                 return x+y"
   ]
  },
  {
   "cell_type": "code",
   "execution_count": 95,
   "id": "ff3f954a-b1d9-48d9-a026-0079eb0f18cd",
   "metadata": {},
   "outputs": [
    {
     "name": "stdout",
     "output_type": "stream",
     "text": [
      "Any missed: True\n",
      "Done task: False\n"
     ]
    }
   ],
   "source": [
    "team_tasks = [\n",
    "    [True, True, True],       # Alice\n",
    "    [True, False, True],      # Bob\n",
    "    [False, True, True]       # Carol\n",
    "]\n",
    "\n",
    "any_missed = any(False in member for member in team_tasks)\n",
    "\n",
    "\n",
    "done_task=all(all(member) for member in team_tasks)\n",
    "\n",
    "print(\"Any missed:\", any_missed)\n",
    "print(\"Done task:\", done_task)\n"
   ]
  },
  {
   "cell_type": "code",
   "execution_count": null,
   "id": "7fe07842-3da0-4f1a-8300-1de6a8af2d1a",
   "metadata": {},
   "outputs": [],
   "source": []
  },
  {
   "cell_type": "code",
   "execution_count": null,
   "id": "e2795cbe-e3d5-4691-a31c-097980359bd6",
   "metadata": {},
   "outputs": [],
   "source": []
  }
 ],
 "metadata": {
  "kernelspec": {
   "display_name": "Python 3 (ipykernel)",
   "language": "python",
   "name": "python3"
  },
  "language_info": {
   "codemirror_mode": {
    "name": "ipython",
    "version": 3
   },
   "file_extension": ".py",
   "mimetype": "text/x-python",
   "name": "python",
   "nbconvert_exporter": "python",
   "pygments_lexer": "ipython3",
   "version": "3.13.5"
  }
 },
 "nbformat": 4,
 "nbformat_minor": 5
}
