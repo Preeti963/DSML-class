{
 "cells": [
  {
   "cell_type": "markdown",
   "id": "48a888b3-a0c6-4e23-8123-fe59064cd72f",
   "metadata": {},
   "source": [
    "LAMDA \n",
    "It is away to create a small,anonymous function without using the def keyword\n",
    "it return as output of function\n"
   ]
  },
  {
   "cell_type": "code",
   "execution_count": 15,
   "id": "e6251380-5404-405e-9c48-3e6e46b9253b",
   "metadata": {},
   "outputs": [
    {
     "data": {
      "text/plain": [
       "9"
      ]
     },
     "execution_count": 15,
     "metadata": {},
     "output_type": "execute_result"
    }
   ],
   "source": [
    "# Usual way\n",
    "def add(x,y):\n",
    "    return x + y\n",
    "    \n",
    "add(4,5)\n"
   ]
  },
  {
   "cell_type": "code",
   "execution_count": 11,
   "id": "2a202e00-b9ce-409c-8050-bb5477299ba2",
   "metadata": {},
   "outputs": [],
   "source": [
    "add_lambda = lambda x,y:x+y"
   ]
  },
  {
   "cell_type": "code",
   "execution_count": 12,
   "id": "c1c42fab-df37-4d6b-b002-1c1e6381413d",
   "metadata": {},
   "outputs": [
    {
     "data": {
      "text/plain": [
       "function"
      ]
     },
     "execution_count": 12,
     "metadata": {},
     "output_type": "execute_result"
    }
   ],
   "source": [
    "type(add_lambda)"
   ]
  },
  {
   "cell_type": "code",
   "execution_count": 13,
   "id": "922988bd-8688-4d10-b45c-085c02e51620",
   "metadata": {},
   "outputs": [
    {
     "data": {
      "text/plain": [
       "9"
      ]
     },
     "execution_count": 13,
     "metadata": {},
     "output_type": "execute_result"
    }
   ],
   "source": [
    "add_lambda(4,5)"
   ]
  },
  {
   "cell_type": "code",
   "execution_count": 18,
   "id": "f5908685-a645-4f0f-b742-ac3237b2b58e",
   "metadata": {},
   "outputs": [
    {
     "name": "stdin",
     "output_type": "stream",
     "text": [
      "length 23\n",
      "breath 4\n",
      "height 10\n"
     ]
    },
    {
     "name": "stdout",
     "output_type": "stream",
     "text": [
      "Area of cuboid is 724.0\n"
     ]
    }
   ],
   "source": [
    "l=float(input(\"length\"))\n",
    "b=float(input(\"breath\"))\n",
    "h=float(input(\"height\"))\n",
    "area = lambda l, b, h: 2 * (l*b + b*h + h*l)\n",
    "print(\"Area of cuboid is\",area(l,b,h))\n"
   ]
  },
  {
   "cell_type": "markdown",
   "id": "6ac12229-c1b2-46d8-9f59-fafbc8ff568e",
   "metadata": {},
   "source": [
    "MAP Function \n"
   ]
  },
  {
   "cell_type": "code",
   "execution_count": 20,
   "id": "32a46f00-0a17-420e-bf9a-5ae41e5590f8",
   "metadata": {},
   "outputs": [
    {
     "ename": "NameError",
     "evalue": "name 'prices' is not defined",
     "output_type": "error",
     "traceback": [
      "\u001b[31m---------------------------------------------------------------------------\u001b[39m",
      "\u001b[31mNameError\u001b[39m                                 Traceback (most recent call last)",
      "\u001b[36mCell\u001b[39m\u001b[36m \u001b[39m\u001b[32mIn[20]\u001b[39m\u001b[32m, line 6\u001b[39m\n\u001b[32m      3\u001b[39m         \u001b[38;5;28;01mreturn\u001b[39;00m price * \u001b[32m0.9\u001b[39m \n\u001b[32m      4\u001b[39m     \u001b[38;5;28;01mreturn\u001b[39;00m price\n\u001b[32m----> \u001b[39m\u001b[32m6\u001b[39m discount_prices = \u001b[38;5;28mlist\u001b[39m(\u001b[38;5;28mmap\u001b[39m(get_discount, \u001b[43mprices\u001b[49m))\n\u001b[32m      7\u001b[39m \u001b[38;5;28mprint\u001b[39m(discount_prices)\n",
      "\u001b[31mNameError\u001b[39m: name 'prices' is not defined"
     ]
    }
   ],
   "source": [
    "def get_discount(price):\n",
    "    if price > 100:\n",
    "        return price * 0.9 \n",
    "    return price\n",
    "\n",
    "discount_prices = list(map(get_discount, prices))\n",
    "print(discount_prices)"
   ]
  },
  {
   "cell_type": "code",
   "execution_count": null,
   "id": "d20ba372-55d2-459e-85de-b48f58adee67",
   "metadata": {},
   "outputs": [],
   "source": [
    "def get_discount(x):\n",
    "    return x*0.9 if x > 100 else x"
   ]
  },
  {
   "cell_type": "code",
   "execution_count": 33,
   "id": "b0b63a00-91cf-47c6-a95f-e1dbefc7fa48",
   "metadata": {},
   "outputs": [
    {
     "ename": "NameError",
     "evalue": "name 'get_discount_lambda' is not defined",
     "output_type": "error",
     "traceback": [
      "\u001b[31m---------------------------------------------------------------------------\u001b[39m",
      "\u001b[31mNameError\u001b[39m                                 Traceback (most recent call last)",
      "\u001b[36mCell\u001b[39m\u001b[36m \u001b[39m\u001b[32mIn[33]\u001b[39m\u001b[32m, line 3\u001b[39m\n\u001b[32m      1\u001b[39m prices = [\u001b[32m45\u001b[39m,\u001b[32m120\u001b[39m,\u001b[32m200\u001b[39m,\u001b[32m75\u001b[39m,\u001b[32m150\u001b[39m]\n\u001b[32m----> \u001b[39m\u001b[32m3\u001b[39m map_obj = \u001b[38;5;28minput\u001b[39m(\u001b[38;5;28mmap\u001b[39m(\u001b[43mget_discount_lambda\u001b[49m, prices))\n\u001b[32m      4\u001b[39m \u001b[38;5;28mlist\u001b[39m(\u001b[38;5;28mmap\u001b[39m,obj)\n",
      "\u001b[31mNameError\u001b[39m: name 'get_discount_lambda' is not defined"
     ]
    }
   ],
   "source": [
    "prices = [45,120,200,75,150]\n",
    "\n",
    "map_obj = map(get_discount_lambda, prices)\n",
    "list(map,obj)"
   ]
  },
  {
   "cell_type": "code",
   "execution_count": 31,
   "id": "b7e0a7b4-1398-48d4-bf89-a0ed295132dc",
   "metadata": {},
   "outputs": [],
   "source": [
    "large_obj = range(1,10000000)\n",
    "res_value = []"
   ]
  },
  {
   "cell_type": "code",
   "execution_count": 32,
   "id": "bc2f70e5-0092-40a6-a271-75c41bd7c5fc",
   "metadata": {},
   "outputs": [
    {
     "ename": "NameError",
     "evalue": "name 'get_discount_lambda' is not defined",
     "output_type": "error",
     "traceback": [
      "\u001b[31m---------------------------------------------------------------------------\u001b[39m",
      "\u001b[31mNameError\u001b[39m                                 Traceback (most recent call last)",
      "\u001b[36mFile \u001b[39m\u001b[32m<timed exec>:2\u001b[39m\n",
      "\u001b[31mNameError\u001b[39m: name 'get_discount_lambda' is not defined"
     ]
    }
   ],
   "source": [
    "%%time\n",
    "\n",
    " for a in large_obj:\n",
    "     res_value.append(get_discount_lambda(a))"
   ]
  },
  {
   "cell_type": "code",
   "execution_count": 29,
   "id": "7ca476de-e55a-40c5-9ee8-06f97038a8ce",
   "metadata": {},
   "outputs": [
    {
     "ename": "NameError",
     "evalue": "name 'get_discount_lambda' is not defined",
     "output_type": "error",
     "traceback": [
      "\u001b[31m---------------------------------------------------------------------------\u001b[39m",
      "\u001b[31mNameError\u001b[39m                                 Traceback (most recent call last)",
      "\u001b[36mFile \u001b[39m\u001b[32m<timed exec>:1\u001b[39m\n",
      "\u001b[31mNameError\u001b[39m: name 'get_discount_lambda' is not defined"
     ]
    }
   ],
   "source": []
  },
  {
   "cell_type": "code",
   "execution_count": null,
   "id": "84659f55-fe47-4947-93ca-70fca2db91e2",
   "metadata": {},
   "outputs": [],
   "source": []
  }
 ],
 "metadata": {
  "kernelspec": {
   "display_name": "Python 3 (ipykernel)",
   "language": "python",
   "name": "python3"
  },
  "language_info": {
   "codemirror_mode": {
    "name": "ipython",
    "version": 3
   },
   "file_extension": ".py",
   "mimetype": "text/x-python",
   "name": "python",
   "nbconvert_exporter": "python",
   "pygments_lexer": "ipython3",
   "version": "3.13.5"
  }
 },
 "nbformat": 4,
 "nbformat_minor": 5
}
