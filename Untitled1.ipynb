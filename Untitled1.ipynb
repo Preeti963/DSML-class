{
 "cells": [
  {
   "cell_type": "markdown",
   "id": "5981b513-faa2-4a27-ac7a-71b27b550b48",
   "metadata": {},
   "source": [
    "User-Defined Function\n",
    "def function (params1,params2 .....):"
   ]
  },
  {
   "cell_type": "code",
   "execution_count": 8,
   "id": "8e1203c6-ef6d-4816-bca4-dbde4fe14c5d",
   "metadata": {},
   "outputs": [
    {
     "ename": "IndentationError",
     "evalue": "unindent does not match any outer indentation level (<string>, line 7)",
     "output_type": "error",
     "traceback": [
      "  \u001b[36mFile \u001b[39m\u001b[32m<string>:7\u001b[39m\n\u001b[31m    \u001b[39m\u001b[31mreturn result\u001b[39m\n                 ^\n\u001b[31mIndentationError\u001b[39m\u001b[31m:\u001b[39m unindent does not match any outer indentation level\n"
     ]
    }
   ],
   "source": [
    "def sum_of_list(inp_list):\n",
    "    result = 0\n",
    "    \n",
    "    for x in inp_list:\n",
    "        result += x\n",
    "        \n",
    "      return result"
   ]
  },
  {
   "cell_type": "code",
   "execution_count": 11,
   "id": "4581b0ba-8359-48d9-bc7b-f168028fab50",
   "metadata": {},
   "outputs": [
    {
     "ename": "NameError",
     "evalue": "name 'sum_of_list' is not defined",
     "output_type": "error",
     "traceback": [
      "\u001b[31m---------------------------------------------------------------------------\u001b[39m",
      "\u001b[31mNameError\u001b[39m                                 Traceback (most recent call last)",
      "\u001b[36mCell\u001b[39m\u001b[36m \u001b[39m\u001b[32mIn[11]\u001b[39m\u001b[32m, line 1\u001b[39m\n\u001b[32m----> \u001b[39m\u001b[32m1\u001b[39m \u001b[43msum_of_list\u001b[49m([\u001b[32m2\u001b[39m,\u001b[32m4\u001b[39m,\u001b[32m6\u001b[39m,\u001b[32m8\u001b[39m])\n",
      "\u001b[31mNameError\u001b[39m: name 'sum_of_list' is not defined"
     ]
    }
   ],
   "source": [
    "sum_of_list([2,4,6,8])"
   ]
  },
  {
   "cell_type": "code",
   "execution_count": 17,
   "id": "af55d6b2-9e78-4c1d-8019-b78eed90d0fe",
   "metadata": {},
   "outputs": [
    {
     "ename": "SyntaxError",
     "evalue": "unterminated f-string literal (detected at line 2) (1565310817.py, line 2)",
     "output_type": "error",
     "traceback": [
      "  \u001b[36mCell\u001b[39m\u001b[36m \u001b[39m\u001b[32mIn[17]\u001b[39m\u001b[32m, line 2\u001b[39m\n\u001b[31m    \u001b[39m\u001b[31mreturn f\"{greetings}, {name}\u001b[39m\n           ^\n\u001b[31mSyntaxError\u001b[39m\u001b[31m:\u001b[39m unterminated f-string literal (detected at line 2)\n"
     ]
    }
   ],
   "source": [
    "def greet(name, greetings = \"Morning\"):\n",
    "  return f\"{greetings}, {name}"
   ]
  },
  {
   "cell_type": "code",
   "execution_count": 13,
   "id": "8535102f-cf2d-4c99-bbb9-af3d43f5cb23",
   "metadata": {},
   "outputs": [
    {
     "ename": "NameError",
     "evalue": "name 'greet' is not defined",
     "output_type": "error",
     "traceback": [
      "\u001b[31m---------------------------------------------------------------------------\u001b[39m",
      "\u001b[31mNameError\u001b[39m                                 Traceback (most recent call last)",
      "\u001b[36mCell\u001b[39m\u001b[36m \u001b[39m\u001b[32mIn[13]\u001b[39m\u001b[32m, line 1\u001b[39m\n\u001b[32m----> \u001b[39m\u001b[32m1\u001b[39m \u001b[43mgreet\u001b[49m(\u001b[33m\"\u001b[39m\u001b[33mRohit\u001b[39m\u001b[33m\"\u001b[39m)\n",
      "\u001b[31mNameError\u001b[39m: name 'greet' is not defined"
     ]
    }
   ],
   "source": [
    "greet(\"Rohit\")"
   ]
  },
  {
   "cell_type": "code",
   "execution_count": 16,
   "id": "7082047b-b55b-46b6-9ac0-9f40ebf52507",
   "metadata": {},
   "outputs": [
    {
     "ename": "NameError",
     "evalue": "name 'greet' is not defined",
     "output_type": "error",
     "traceback": [
      "\u001b[31m---------------------------------------------------------------------------\u001b[39m",
      "\u001b[31mNameError\u001b[39m                                 Traceback (most recent call last)",
      "\u001b[36mCell\u001b[39m\u001b[36m \u001b[39m\u001b[32mIn[16]\u001b[39m\u001b[32m, line 1\u001b[39m\n\u001b[32m----> \u001b[39m\u001b[32m1\u001b[39m \u001b[43mgreet\u001b[49m(\u001b[33m\"\u001b[39m\u001b[33mbob\u001b[39m\u001b[33m\"\u001b[39m, \u001b[33m\"\u001b[39m\u001b[33mhi\u001b[39m\u001b[33m\"\u001b[39m)\n",
      "\u001b[31mNameError\u001b[39m: name 'greet' is not defined"
     ]
    }
   ],
   "source": [
    "greet(\"bob\", \"hi\")"
   ]
  },
  {
   "cell_type": "code",
   "execution_count": 19,
   "id": "35656811-9b12-478f-b951-73fd3d377079",
   "metadata": {},
   "outputs": [],
   "source": [
    "def print_args(*args):\n",
    "    print(\"positional Args\")\n",
    "    for arg in args:\n",
    "        print(arg)"
   ]
  },
  {
   "cell_type": "code",
   "execution_count": 20,
   "id": "d24c470a-cf4b-477a-806f-091cac7d3708",
   "metadata": {},
   "outputs": [
    {
     "name": "stdout",
     "output_type": "stream",
     "text": [
      "positional Args\n",
      "1\n",
      "3\n",
      "4\n",
      "5\n",
      "[5, 6]\n",
      "ram\n"
     ]
    }
   ],
   "source": [
    "print_args(1,3,4,5,[5,6],\"ram\")"
   ]
  },
  {
   "cell_type": "code",
   "execution_count": null,
   "id": "2d445625-33df-4e4d-ab7c-6adc7a43590e",
   "metadata": {},
   "outputs": [],
   "source": [
    "def print_kargs(**kwargs):\n",
    "    print(\"keywords Args\")\n",
    "    print(kwargs)\n",
    "    length = kwargs.get(length')"
   ]
  },
  {
   "cell_type": "code",
   "execution_count": 22,
   "id": "bd9f1d4e-a0ca-4843-8b81-7043038b79e2",
   "metadata": {},
   "outputs": [
    {
     "ename": "NameError",
     "evalue": "name 'print_kwargs' is not defined",
     "output_type": "error",
     "traceback": [
      "\u001b[31m---------------------------------------------------------------------------\u001b[39m",
      "\u001b[31mNameError\u001b[39m                                 Traceback (most recent call last)",
      "\u001b[36mCell\u001b[39m\u001b[36m \u001b[39m\u001b[32mIn[22]\u001b[39m\u001b[32m, line 1\u001b[39m\n\u001b[32m----> \u001b[39m\u001b[32m1\u001b[39m \u001b[43mprint_kwargs\u001b[49m(lenght =\u001b[32m4\u001b[39m,breadth =\u001b[32m5\u001b[39m)\n",
      "\u001b[31mNameError\u001b[39m: name 'print_kwargs' is not defined"
     ]
    }
   ],
   "source": [
    "print_kwargs(lenght =4,breadth =5)"
   ]
  },
  {
   "cell_type": "code",
   "execution_count": null,
   "id": "8454dc32-0932-43a3-b454-8be378e70721",
   "metadata": {},
   "outputs": [],
   "source": [
    "def print_arguments(*args, **kwargs):\n",
    "    print(\"positional\")\n",
    "    print(args)\n",
    "    print(\"_\"*50)\n",
    "    print(\"keywords\")\n",
    "    print(kwargs)"
   ]
  },
  {
   "cell_type": "code",
   "execution_count": 23,
   "id": "34440240-874f-4984-aeec-4b2fdacab6fc",
   "metadata": {},
   "outputs": [
    {
     "ename": "NameError",
     "evalue": "name 'print_arguments' is not defined",
     "output_type": "error",
     "traceback": [
      "\u001b[31m---------------------------------------------------------------------------\u001b[39m",
      "\u001b[31mNameError\u001b[39m                                 Traceback (most recent call last)",
      "\u001b[36mCell\u001b[39m\u001b[36m \u001b[39m\u001b[32mIn[23]\u001b[39m\u001b[32m, line 1\u001b[39m\n\u001b[32m----> \u001b[39m\u001b[32m1\u001b[39m \u001b[43mprint_arguments\u001b[49m(\u001b[33m\"\u001b[39m\u001b[33mram\u001b[39m\u001b[33m\"\u001b[39m, \u001b[32m1\u001b[39m, \u001b[38;5;28;01mTrue\u001b[39;00m, score = [\u001b[32m1\u001b[39m,\u001b[32m4\u001b[39m,\u001b[32m6\u001b[39m], greet = \u001b[33m\"\u001b[39m\u001b[33mHello\u001b[39m\u001b[33m\"\u001b[39m)\n",
      "\u001b[31mNameError\u001b[39m: name 'print_arguments' is not defined"
     ]
    }
   ],
   "source": [
    "print_arguments(\"ram\", 1, True, score = [1,4,6], greet = \"Hello\")"
   ]
  },
  {
   "cell_type": "markdown",
   "id": "7d8075f7-7bbb-4a53-9039-f3af7348b866",
   "metadata": {},
   "source": [
    "Documentation  Function"
   ]
  },
  {
   "cell_type": "code",
   "execution_count": 24,
   "id": "3708146a-987c-46f1-b7f0-3d112f2569bd",
   "metadata": {},
   "outputs": [],
   "source": [
    "def square (n: int) -> int:\n",
    "    return n ** 2"
   ]
  },
  {
   "cell_type": "code",
   "execution_count": 25,
   "id": "57315d6c-cb4b-49ad-a336-b71c1fbb211d",
   "metadata": {},
   "outputs": [
    {
     "data": {
      "text/plain": [
       "49"
      ]
     },
     "execution_count": 25,
     "metadata": {},
     "output_type": "execute_result"
    }
   ],
   "source": [
    "square(7)"
   ]
  },
  {
   "cell_type": "code",
   "execution_count": null,
   "id": "46d5471a-2839-4700-a896-b377822cec83",
   "metadata": {},
   "outputs": [],
   "source": [
    "square()"
   ]
  },
  {
   "cell_type": "code",
   "execution_count": null,
   "id": "7cfa7bc7-87ca-4383-bae6-cd52e48e8ca8",
   "metadata": {},
   "outputs": [],
   "source": []
  }
 ],
 "metadata": {
  "kernelspec": {
   "display_name": "Python 3 (ipykernel)",
   "language": "python",
   "name": "python3"
  },
  "language_info": {
   "codemirror_mode": {
    "name": "ipython",
    "version": 3
   },
   "file_extension": ".py",
   "mimetype": "text/x-python",
   "name": "python",
   "nbconvert_exporter": "python",
   "pygments_lexer": "ipython3",
   "version": "3.13.5"
  }
 },
 "nbformat": 4,
 "nbformat_minor": 5
}
